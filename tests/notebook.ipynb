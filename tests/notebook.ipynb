{
 "cells": [
  {
   "cell_type": "markdown",
   "id": "demographic-quebec",
   "metadata": {
    "tags": []
   },
   "source": [
    "# Lorem ipsum"
   ]
  },
  {
   "cell_type": "code",
   "execution_count": 9,
   "id": "adult-mention",
   "metadata": {},
   "outputs": [],
   "source": [
    "import altair as alt\n",
    "import pandas as pd"
   ]
  },
  {
   "cell_type": "markdown",
   "id": "engaging-philippines",
   "metadata": {},
   "source": [
    "Lorem _ipsum_ **dolor** `sit` ~amet~, [consectetur](https://github.com/paw-lu/nbpreview) adipiscing elit, sed do eiusmod tempor incididunt ut labore et dolore magna aliqua. Ut enim ad minim veniam, quis nostrud exercitation ullamco laboris nisi ut aliquip ex ea commodo consequat. Duis aute irure dolor in reprehenderit in voluptate velit esse cillum dolore eu fugiat nulla pariatur. Excepteur sint occaecat cupidatat non proident, sunt in culpa qui officia deserunt mollit anim id est laborum.\n",
    "\n",
    "![demo_picture](leaves.jpg)."
   ]
  },
  {
   "cell_type": "markdown",
   "id": "recovered-bacteria",
   "metadata": {},
   "source": [
    "## Cras adipiscing"
   ]
  },
  {
   "cell_type": "code",
   "execution_count": null,
   "id": "complimentary-colleague",
   "metadata": {},
   "outputs": [],
   "source": [
    "data = pd.DataFrame({'col1': [1, 2], 'col2': [3, 4]})\n",
    "data"
   ]
  },
  {
   "cell_type": "code",
   "execution_count": 7,
   "id": "classified-highland",
   "metadata": {},
   "outputs": [
    {
     "data": {
      "image/png": "[encoded data removed]",
      "text/plain": [
       "<Figure size 432x288 with 1 Axes>"
      ]
     },
     "metadata": {
      "needs_background": "light"
     },
     "output_type": "display_data"
    }
   ],
   "source": [
    "data.plot.line();"
   ]
  },
  {
   "cell_type": "code",
   "execution_count": 8,
   "id": "pleasant-cassette",
   "metadata": {},
   "outputs": [
    {
     "name": "stdout",
     "output_type": "stream",
     "text": [
      "Cras adipiscing\n"
     ]
    }
   ],
   "source": [
    "%%bash\n",
    "\n",
    "echo 'Cras adipiscing'"
   ]
  },
  {
   "cell_type": "markdown",
   "id": "turned-webster",
   "metadata": {},
   "source": [
    "### Justo laoreet"
   ]
  },
  {
   "cell_type": "markdown",
   "id": "vietnamese-islam",
   "metadata": {},
   "source": [
    "1. Orci\n",
    "2. Nulla\n",
    "3. Pellentesque\n",
    "\n",
    "    Lorem ipsum dolor sit amet, consectetur adipiscing elit, sed do eiusmod tempor incididunt ut labore et dolore magna aliqua.\n",
    "\n",
    "```sql\n",
    "SELECT\n",
    "    t.column\n",
    "FROM\n",
    "  table AS t\n",
    "```"
   ]
  },
  {
   "cell_type": "code",
   "execution_count": 7,
   "id": "handy-houston",
   "metadata": {},
   "outputs": [
    {
     "ename": "ZeroDivisionError",
     "evalue": "division by zero",
     "output_type": "error",
     "traceback": [
      "\u001b[1;31m---------------------------------------------------------------------------\u001b[0m",
      "\u001b[1;31mZeroDivisionError\u001b[0m                         Traceback (most recent call last)",
      "\u001b[1;32m<ipython-input-7-bc757c3fda29>\u001b[0m in \u001b[0;36m<module>\u001b[1;34m\u001b[0m\n\u001b[1;32m----> 1\u001b[1;33m \u001b[1;36m1\u001b[0m \u001b[1;33m/\u001b[0m \u001b[1;36m0\u001b[0m\u001b[1;33m\u001b[0m\u001b[1;33m\u001b[0m\u001b[0m\n\u001b[0m",
      "\u001b[1;31mZeroDivisionError\u001b[0m: division by zero"
     ]
    }
   ],
   "source": [
    "1 / 0"
   ]
  }
 ],
 "metadata": {
  "kernelspec": {
   "display_name": "scratch",
   "language": "python",
   "name": "scratch"
  },
  "language_info": {
   "codemirror_mode": {
    "name": "ipython",
    "version": 3
   },
   "file_extension": ".py",
   "mimetype": "text/x-python",
   "name": "python",
   "nbconvert_exporter": "python",
   "pygments_lexer": "ipython3",
   "version": "3.8.6"
  }
 },
 "nbformat": 4,
 "nbformat_minor": 5
}
